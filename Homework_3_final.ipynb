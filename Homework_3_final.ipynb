{
 "cells": [
  {
   "cell_type": "code",
   "execution_count": 146,
   "metadata": {},
   "outputs": [],
   "source": [
    "import pandas as pd\n",
    "import numpy as np\n",
    "import csv\n",
    "\n",
    "# library for storing and loading objects\n",
    "import pickle\n",
    "\n",
    "# library for stemming work\n",
    "import nltk\n",
    "#nltk.download('punkt')\n",
    "#nltk.download('stopwords')\n",
    "import string\n",
    "from nltk.corpus import stopwords\n",
    "from nltk.stem import PorterStemmer\n",
    "from nltk.tokenize import word_tokenize\n",
    "\n",
    "# library used to make inverted index\n",
    "from collections import defaultdict\n",
    "from collections import Counter\n",
    "\n",
    "# cosine distance\n",
    "from scipy.spatial.distance import cosine\n",
    "\n",
    "import math \n",
    "\n",
    "# heap_max library\n",
    "import heapq\n",
    "from heapq import heappush, heappop\n",
    "\n",
    "from geopy.geocoders import Nominatim\n",
    "from geopy import distance\n",
    "import folium\n",
    "import os\n",
    "\n",
    "import functions\n",
    "\n",
    "# variable declarations\n",
    "path1 = 'data/docs/'\n",
    "path2 = '.tsv'\n",
    "#stemmed_path='data/tokenized_docs/'\n",
    "#sp = string.punctuation+'“”–’'"
   ]
  },
  {
   "cell_type": "markdown",
   "metadata": {},
   "source": [
    "# Step 2: Create documents\n",
    "\n",
    "Importing data from Airbnb_Texas_Rentals.csv and preparing it for pre processing.\n",
    "\n",
    "We decide to remove from the beginnig the rows of b&b without any location information (latitude or longitute), they are 34 and they won't affect final results. In this way we can properly elaborate the algorithm in step 4.\n",
    "    "
   ]
  },
  {
   "cell_type": "code",
   "execution_count": 20,
   "metadata": {},
   "outputs": [],
   "source": [
    "texas1 = pd.read_csv(\"data/Airbnb_Texas_Rentals.csv\")\n",
    "# dropping duplicates (there are no duplicates)\n",
    "texas1 = texas1.drop_duplicates()\n",
    "texas1 = texas1[np.isfinite(texas1['latitude'])]\n",
    "texas1 = texas1[np.isfinite(texas1['longitude'])]"
   ]
  },
  {
   "cell_type": "markdown",
   "metadata": {},
   "source": [
    "### 3.1) Preprocessing:\n",
    "\n",
    "Since every row of the dataframe contains information for a single announcement, we store each row of the dataframe as separated tsv file.\n"
   ]
  },
  {
   "cell_type": "code",
   "execution_count": 12,
   "metadata": {},
   "outputs": [],
   "source": [
    "functions.preprocessing(texas1)"
   ]
  },
  {
   "cell_type": "markdown",
   "metadata": {},
   "source": [
    "# Step 3: Search Engine"
   ]
  },
  {
   "cell_type": "markdown",
   "metadata": {},
   "source": [
    "### 3.1.1) Create vocabulary and inverted index for search engine 1"
   ]
  },
  {
   "cell_type": "markdown",
   "metadata": {},
   "source": [
    "\n",
    "We decide to create the vocabulary and inverted index ( _ii1_ ) for the search engine 1 into the same method because it's faster and we elaborate data only once.\n",
    "\n",
    "We create vocabulary parsing every stemmed document, and we update it when the algorithm finds a new word. Meanwhile we do the same for each term_id into the inverted index: if the document contains a new term we create a new key and we append the document_id _doc-id_, otherwise we append (doc-id) to the already existing term_id.\n"
   ]
  },
  {
   "cell_type": "code",
   "execution_count": 13,
   "metadata": {},
   "outputs": [],
   "source": [
    "functions.create_vocabulary_and_ii1(texas1)"
   ]
  },
  {
   "cell_type": "markdown",
   "metadata": {},
   "source": [
    "### 3.1.2) Execute the query - Search engine 1"
   ]
  },
  {
   "cell_type": "markdown",
   "metadata": {},
   "source": [
    "As asked in the question 3.1, we made a search engine that returns a set of documents that contain all the terms for each conjunctive query. This search engine refers to the vocabulary and ii1. In the output we print at most k = 5 documents using a dataframe structure."
   ]
  },
  {
   "cell_type": "code",
   "execution_count": 143,
   "metadata": {},
   "outputs": [
    {
     "data": {
      "text/html": [
       "<div>\n",
       "<style scoped>\n",
       "    .dataframe tbody tr th:only-of-type {\n",
       "        vertical-align: middle;\n",
       "    }\n",
       "\n",
       "    .dataframe tbody tr th {\n",
       "        vertical-align: top;\n",
       "    }\n",
       "\n",
       "    .dataframe thead th {\n",
       "        text-align: right;\n",
       "    }\n",
       "</style>\n",
       "<table border=\"1\" class=\"dataframe\">\n",
       "  <thead>\n",
       "    <tr style=\"text-align: right;\">\n",
       "      <th></th>\n",
       "      <th>Title</th>\n",
       "      <th>Description</th>\n",
       "      <th>City</th>\n",
       "      <th>Url</th>\n",
       "    </tr>\n",
       "  </thead>\n",
       "  <tbody>\n",
       "    <tr>\n",
       "      <th>1</th>\n",
       "      <td>2 blocks to Rainey! Walk downtown!</td>\n",
       "      <td>HOLIDAYS, LOCAL EVENTS, HIGH DEMAND WEEKENDS, ...</td>\n",
       "      <td>Austin</td>\n",
       "      <td>https://www.airbnb.com/rooms/1250575?location=...</td>\n",
       "    </tr>\n",
       "    <tr>\n",
       "      <th>2</th>\n",
       "      <td>Sandy Toes Beach Retreat</td>\n",
       "      <td>It's finally here and we are happy to share ou...</td>\n",
       "      <td>Galveston</td>\n",
       "      <td>https://www.airbnb.com/rooms/16980825?location...</td>\n",
       "    </tr>\n",
       "    <tr>\n",
       "      <th>3</th>\n",
       "      <td>Private Rm/Bath @ the Gold House!</td>\n",
       "      <td>This unique private guest room at the Gold Hou...</td>\n",
       "      <td>San Antonio</td>\n",
       "      <td>https://www.airbnb.com/rooms/1284796?location=...</td>\n",
       "    </tr>\n",
       "    <tr>\n",
       "      <th>4</th>\n",
       "      <td>Gibbs House / Walk to the Beach</td>\n",
       "      <td>Your private suite is in my personal residence...</td>\n",
       "      <td>Galveston</td>\n",
       "      <td>https://www.airbnb.com/rooms/16982846?location...</td>\n",
       "    </tr>\n",
       "    <tr>\n",
       "      <th>5</th>\n",
       "      <td>Tudor Home Guest House</td>\n",
       "      <td>Charming 2 bedroom guest house. Large kitchen/...</td>\n",
       "      <td>Dallas</td>\n",
       "      <td>https://www.airbnb.com/rooms/6324590?location=...</td>\n",
       "    </tr>\n",
       "  </tbody>\n",
       "</table>\n",
       "</div>"
      ],
      "text/plain": [
       "                                Title  \\\n",
       "1  2 blocks to Rainey! Walk downtown!   \n",
       "2            Sandy Toes Beach Retreat   \n",
       "3   Private Rm/Bath @ the Gold House!   \n",
       "4     Gibbs House / Walk to the Beach   \n",
       "5              Tudor Home Guest House   \n",
       "\n",
       "                                         Description         City  \\\n",
       "1  HOLIDAYS, LOCAL EVENTS, HIGH DEMAND WEEKENDS, ...       Austin   \n",
       "2  It's finally here and we are happy to share ou...    Galveston   \n",
       "3  This unique private guest room at the Gold Hou...  San Antonio   \n",
       "4  Your private suite is in my personal residence...    Galveston   \n",
       "5  Charming 2 bedroom guest house. Large kitchen/...       Dallas   \n",
       "\n",
       "                                                 Url  \n",
       "1  https://www.airbnb.com/rooms/1250575?location=...  \n",
       "2  https://www.airbnb.com/rooms/16980825?location...  \n",
       "3  https://www.airbnb.com/rooms/1284796?location=...  \n",
       "4  https://www.airbnb.com/rooms/16982846?location...  \n",
       "5  https://www.airbnb.com/rooms/6324590?location=...  "
      ]
     },
     "execution_count": 143,
     "metadata": {},
     "output_type": "execute_result"
    }
   ],
   "source": [
    "res = functions.search_engine_1('House with garden')\n",
    "res"
   ]
  },
  {
   "cell_type": "markdown",
   "metadata": {},
   "source": [
    "## 3.2) Conjunctive query & Ranking score"
   ]
  },
  {
   "cell_type": "markdown",
   "metadata": {},
   "source": [
    "### 3.2.1) Inverted index (TFIDF)"
   ]
  },
  {
   "cell_type": "markdown",
   "metadata": {},
   "source": [
    "Creating the inverted index with TFIDF and storing it as pickle binary file."
   ]
  },
  {
   "cell_type": "code",
   "execution_count": 5,
   "metadata": {},
   "outputs": [],
   "source": [
    "functions.inverted_index_TFIDF(texas1)"
   ]
  },
  {
   "cell_type": "markdown",
   "metadata": {},
   "source": [
    "### 3.2.2) Execute the query - Search engine 2"
   ]
  },
  {
   "cell_type": "markdown",
   "metadata": {},
   "source": [
    "This new search engine uses both of the inverted indexes with TFIDF:\n",
    "\n",
    "    - It takes the query and it stems it\n",
    "    - It obtains with ii1 the list of documents which cointain all the terms of the query\n",
    "    - It makes cosine similarity between each document of the list and the query\n",
    "    - It returns the first k terms (default k=5)\n",
    "    \n",
    "   \n",
    "We decide not to work with all the terms of the inverted index but only with terms contained in the query.\n",
    "Since inverted index has more than 10 thousands of rows, we extract only necessary terms to compute faster cosine similarity between smaller arrays. \n",
    "\n",
    "To compute the cosine similarity, we consider in the query array the absolute frequency of terms.\n"
   ]
  },
  {
   "cell_type": "code",
   "execution_count": 144,
   "metadata": {},
   "outputs": [
    {
     "data": {
      "text/html": [
       "<div>\n",
       "<style scoped>\n",
       "    .dataframe tbody tr th:only-of-type {\n",
       "        vertical-align: middle;\n",
       "    }\n",
       "\n",
       "    .dataframe tbody tr th {\n",
       "        vertical-align: top;\n",
       "    }\n",
       "\n",
       "    .dataframe thead th {\n",
       "        text-align: right;\n",
       "    }\n",
       "</style>\n",
       "<table border=\"1\" class=\"dataframe\">\n",
       "  <thead>\n",
       "    <tr style=\"text-align: right;\">\n",
       "      <th></th>\n",
       "      <th>Title</th>\n",
       "      <th>Description</th>\n",
       "      <th>City</th>\n",
       "      <th>Url</th>\n",
       "      <th>Similarity</th>\n",
       "    </tr>\n",
       "  </thead>\n",
       "  <tbody>\n",
       "    <tr>\n",
       "      <th>1</th>\n",
       "      <td>Allegro North First Floor Condo for 7 guests</td>\n",
       "      <td>Two bedroom, two bathroom condo with master su...</td>\n",
       "      <td>Rockport</td>\n",
       "      <td>https://www.airbnb.com/rooms/18157657?location...</td>\n",
       "      <td>0.864</td>\n",
       "    </tr>\n",
       "    <tr>\n",
       "      <th>2</th>\n",
       "      <td>Condo 305 is Comfortable, Economical on beach</td>\n",
       "      <td>Our home is designed for comfort and convenien...</td>\n",
       "      <td>South Padre Island</td>\n",
       "      <td>https://www.airbnb.com/rooms/11580397?location...</td>\n",
       "      <td>0.855</td>\n",
       "    </tr>\n",
       "    <tr>\n",
       "      <th>3</th>\n",
       "      <td>North Padre Island room beach 1M</td>\n",
       "      <td>My wife and I will welcome you into our home a...</td>\n",
       "      <td>Corpus Christi</td>\n",
       "      <td>https://www.airbnb.com/rooms/3767705?location=...</td>\n",
       "      <td>0.855</td>\n",
       "    </tr>\n",
       "    <tr>\n",
       "      <th>4</th>\n",
       "      <td>North Padre Island room beach 1M</td>\n",
       "      <td>My wife and I will welcome you into our home a...</td>\n",
       "      <td>Corpus Christi</td>\n",
       "      <td>https://www.airbnb.com/rooms/3767705?location=...</td>\n",
       "      <td>0.855</td>\n",
       "    </tr>\n",
       "    <tr>\n",
       "      <th>5</th>\n",
       "      <td>Private Bedroom (queen)/Bathroom in Beautiful ...</td>\n",
       "      <td>Beautiful 3 bedroom/2 bath house (1 private gu...</td>\n",
       "      <td>Corpus Christi</td>\n",
       "      <td>https://www.airbnb.com/rooms/19484822?location...</td>\n",
       "      <td>0.708</td>\n",
       "    </tr>\n",
       "  </tbody>\n",
       "</table>\n",
       "</div>"
      ],
      "text/plain": [
       "                                               Title  \\\n",
       "1       Allegro North First Floor Condo for 7 guests   \n",
       "2      Condo 305 is Comfortable, Economical on beach   \n",
       "3                   North Padre Island room beach 1M   \n",
       "4                   North Padre Island room beach 1M   \n",
       "5  Private Bedroom (queen)/Bathroom in Beautiful ...   \n",
       "\n",
       "                                         Description                City  \\\n",
       "1  Two bedroom, two bathroom condo with master su...            Rockport   \n",
       "2  Our home is designed for comfort and convenien...  South Padre Island   \n",
       "3  My wife and I will welcome you into our home a...      Corpus Christi   \n",
       "4  My wife and I will welcome you into our home a...      Corpus Christi   \n",
       "5  Beautiful 3 bedroom/2 bath house (1 private gu...      Corpus Christi   \n",
       "\n",
       "                                                 Url  Similarity  \n",
       "1  https://www.airbnb.com/rooms/18157657?location...       0.864  \n",
       "2  https://www.airbnb.com/rooms/11580397?location...       0.855  \n",
       "3  https://www.airbnb.com/rooms/3767705?location=...       0.855  \n",
       "4  https://www.airbnb.com/rooms/3767705?location=...       0.855  \n",
       "5  https://www.airbnb.com/rooms/19484822?location...       0.708  "
      ]
     },
     "execution_count": 144,
     "metadata": {},
     "output_type": "execute_result"
    }
   ],
   "source": [
    "res = functions.search_engine_2('Beach, two rooms with private bathroom')\n",
    "res"
   ]
  },
  {
   "cell_type": "markdown",
   "metadata": {},
   "source": [
    "# Step 4: Define a new score!"
   ]
  },
  {
   "cell_type": "markdown",
   "metadata": {},
   "source": [
    "At first, we will make the same as we have done in the question 3.1 with Search Engine 1: we find the documents which satisfy a text query. \n",
    "\n",
    "After the text query, the users has to type informations about three different field: \n",
    "    - target price\n",
    "    - the number of rooms needed\n",
    "    - desired location and the maximum affordable distance from the location.\n",
    "    \n",
    "Each rank is bounded between 0 and 1, in this way we are able to make a weighted average.\n",
    "\n",
    "In this case, the location has the highest priority, followed by price and then the number of rooms which have been considered. Since the location is most important for a search, we gave it a weight 0.7. After that we considered the price more important than the number of rooms. So we gave respectively, \n",
    "\n",
    "At the end, for each document we will have the following ranking:\n",
    "\n",
    "$$\\text{rank}_\\text{doc_i} = \\text{location_rank}\\cdot 0.7 + \\text{price_rank} \\cdot 0.2 + \\text{rooms_rank} \\cdot 0.1 $$\n"
   ]
  },
  {
   "cell_type": "markdown",
   "metadata": {},
   "source": [
    "## Rankings"
   ]
  },
  {
   "cell_type": "markdown",
   "metadata": {},
   "source": [
    "### 1) Location\n",
    "\n",
    "For the location we allow the user to type the location and the max_distance. \n",
    "\n",
    "Our ranking it's based on a function that, for each document, it computes the distance between the b&b location and the location typed. The value of the ranking decrease linearly with slope $ ({1}/\\text{max distance}) $ from the center chosen by the user. The function is the following:\n",
    "\n",
    "$$  \\text{location_rank(distance)}_\\text{doc_i}  = 1 -  \\frac{\\text{distance}}{\\text{max_distance}} \\quad \\forall \\text{ distance} \\in [0,\\text{max_distance}) $$\n",
    "\n",
    "$$0 \\quad \\text{otherwise}$$\n",
    "\n",
    "The measure unit is km. The default value of max_distance is 15.\n",
    "\n",
    "We thought that it's useless, for an user that is looking for a particular city, to have results of other ones. "
   ]
  },
  {
   "cell_type": "code",
   "execution_count": 142,
   "metadata": {},
   "outputs": [
    {
     "data": {
      "image/png": "[encoded data removed]",
      "text/plain": [
       "<Figure size 864x504 with 1 Axes>"
      ]
     },
     "metadata": {},
     "output_type": "display_data"
    }
   ],
   "source": [
    "functions.location_rank()"
   ]
  },
  {
   "cell_type": "markdown",
   "metadata": {},
   "source": [
    "### 2) Target price \n",
    "\n",
    "We score the low point if the difference between the target price that users prefer and price of documents is big. \n",
    "\n",
    "We decide to make the score as a linear function that decrease linearly with the absolute difference between target price and document price with slope of 0.01. \n",
    "In this case we are able to spread ranks related to the target price in a very smooth way. Since we want a rank value between 0 and 1, we had to define properly the domain of our function. \n",
    "\n",
    "$$ \\text{price_rank}_\\text{doc_i} = 1 - \\frac{1}{100} \\times \\left| \\text{ price_target} - \\text{price_doc_i } \\right| $$\n",
    "\n",
    "As consequence of this decision, in case the difference of price between the preferred price for the user and a high price of the document considered is equal or greater than 100, then it's not given any positive score to the price, so the score is 0.   \n",
    "\n",
    "\n",
    "#### Trend of ranks for a  fixed price "
   ]
  },
  {
   "cell_type": "code",
   "execution_count": 125,
   "metadata": {},
   "outputs": [
    {
     "data": {
      "image/png": "[encoded data removed]",
      "text/plain": [
       "<Figure size 864x504 with 1 Axes>"
      ]
     },
     "metadata": {},
     "output_type": "display_data"
    }
   ],
   "source": [
    "functions.price_rank_100()"
   ]
  },
  {
   "cell_type": "markdown",
   "metadata": {},
   "source": [
    "### 3) The number of rooms: \n",
    "\n",
    "In this case, we compute the difference between the number of rooms needed and the number of rooms available.\n",
    "For each document, the algorithm is following:\n",
    "\n",
    "    - 0 if the difference between document is negative or equal and greater than 4\n",
    "    - 1 if they have the same number of rooms\n",
    "    - 0.75 if the number of room available\n",
    "    - and so on and so forth\n",
    "\n",
    "In this way we give more weight to rooms that come close to the exact number needed. <br>\n",
    "We decided also to penalize much more houses with less rooms available than those required"
   ]
  },
  {
   "cell_type": "markdown",
   "metadata": {},
   "source": [
    "# Search engine 4 "
   ]
  },
  {
   "cell_type": "code",
   "execution_count": 241,
   "metadata": {},
   "outputs": [
    {
     "name": "stdout",
     "output_type": "stream",
     "text": [
      "What are you looking for: House with swimming pool\n",
      "target price: \n",
      "80\n",
      "n rooms: \n",
      "2\n",
      "location: \n",
      "Dallas\n",
      "max distance from your location(km): 10\n",
      "Found 81 results\n"
     ]
    },
    {
     "data": {
      "text/html": [
       "<div>\n",
       "<style scoped>\n",
       "    .dataframe tbody tr th:only-of-type {\n",
       "        vertical-align: middle;\n",
       "    }\n",
       "\n",
       "    .dataframe tbody tr th {\n",
       "        vertical-align: top;\n",
       "    }\n",
       "\n",
       "    .dataframe thead th {\n",
       "        text-align: right;\n",
       "    }\n",
       "</style>\n",
       "<table border=\"1\" class=\"dataframe\">\n",
       "  <thead>\n",
       "    <tr style=\"text-align: right;\">\n",
       "      <th></th>\n",
       "      <th>Ranking</th>\n",
       "      <th>Title</th>\n",
       "      <th>Description</th>\n",
       "      <th>City</th>\n",
       "      <th>Url</th>\n",
       "    </tr>\n",
       "  </thead>\n",
       "  <tbody>\n",
       "    <tr>\n",
       "      <th>0</th>\n",
       "      <td>1</td>\n",
       "      <td>Upscale home with pool... Best location in Dal...</td>\n",
       "      <td>WELCOME!\\n\\nMinutes from Uptown, minutes from ...</td>\n",
       "      <td>Dallas</td>\n",
       "      <td>https://www.airbnb.com/rooms/16694156?location...</td>\n",
       "    </tr>\n",
       "    <tr>\n",
       "      <th>1</th>\n",
       "      <td>2</td>\n",
       "      <td>Upscale home with pool... Best location in Dal...</td>\n",
       "      <td>WELCOME!\\n\\nMinutes from Uptown, minutes from ...</td>\n",
       "      <td>Dallas</td>\n",
       "      <td>https://www.airbnb.com/rooms/16694156?location...</td>\n",
       "    </tr>\n",
       "    <tr>\n",
       "      <th>2</th>\n",
       "      <td>3</td>\n",
       "      <td>Upscale home with pool... Best location in Dal...</td>\n",
       "      <td>WELCOME!\\n\\nMinutes from Uptown, minutes from ...</td>\n",
       "      <td>Dallas</td>\n",
       "      <td>https://www.airbnb.com/rooms/16694156?location...</td>\n",
       "    </tr>\n",
       "    <tr>\n",
       "      <th>3</th>\n",
       "      <td>4</td>\n",
       "      <td>Mi casa es su Casa. Travel instyle.</td>\n",
       "      <td>Gorgeous 3 master suites w/ privatel baths, al...</td>\n",
       "      <td>Dallas</td>\n",
       "      <td>https://www.airbnb.com/rooms/790791?location=A...</td>\n",
       "    </tr>\n",
       "    <tr>\n",
       "      <th>4</th>\n",
       "      <td>5</td>\n",
       "      <td>2 Bedroom Townhome in Mckinney</td>\n",
       "      <td>Beautifully decorated and fully furnished apar...</td>\n",
       "      <td>McKinney</td>\n",
       "      <td>https://www.airbnb.com/rooms/17938617?location...</td>\n",
       "    </tr>\n",
       "  </tbody>\n",
       "</table>\n",
       "</div>"
      ],
      "text/plain": [
       "   Ranking                                              Title  \\\n",
       "0        1  Upscale home with pool... Best location in Dal...   \n",
       "1        2  Upscale home with pool... Best location in Dal...   \n",
       "2        3  Upscale home with pool... Best location in Dal...   \n",
       "3        4                Mi casa es su Casa. Travel instyle.   \n",
       "4        5                     2 Bedroom Townhome in Mckinney   \n",
       "\n",
       "                                         Description      City  \\\n",
       "0  WELCOME!\\n\\nMinutes from Uptown, minutes from ...    Dallas   \n",
       "1  WELCOME!\\n\\nMinutes from Uptown, minutes from ...    Dallas   \n",
       "2  WELCOME!\\n\\nMinutes from Uptown, minutes from ...    Dallas   \n",
       "3  Gorgeous 3 master suites w/ privatel baths, al...    Dallas   \n",
       "4  Beautifully decorated and fully furnished apar...  McKinney   \n",
       "\n",
       "                                                 Url  \n",
       "0  https://www.airbnb.com/rooms/16694156?location...  \n",
       "1  https://www.airbnb.com/rooms/16694156?location...  \n",
       "2  https://www.airbnb.com/rooms/16694156?location...  \n",
       "3  https://www.airbnb.com/rooms/790791?location=A...  \n",
       "4  https://www.airbnb.com/rooms/17938617?location...  "
      ]
     },
     "execution_count": 241,
     "metadata": {},
     "output_type": "execute_result"
    }
   ],
   "source": [
    "res = functions.search_engine_3(input('What are you looking for: '))\n",
    "res"
   ]
  },
  {
   "cell_type": "markdown",
   "metadata": {},
   "source": [
    "# Step 4: make nice visualization"
   ]
  },
  {
   "cell_type": "code",
   "execution_count": 242,
   "metadata": {
    "scrolled": true
   },
   "outputs": [
    {
     "name": "stdout",
     "output_type": "stream",
     "text": [
      "Location: Austin\n",
      "Radius(km): 2\n"
     ]
    }
   ],
   "source": [
    "location = input('Location: ')\n",
    "km = input('Radius(km): ')\n",
    "m = functions.houses_map(location, float(km))"
   ]
  },
  {
   "cell_type": "code",
   "execution_count": 244,
   "metadata": {},
   "outputs": [],
   "source": [
    "# EXAMPLE of saving map using os mod\n",
    "m.save(os.path.join('%s_%s_km_map.html'%(location,km)))"
   ]
  }
 ],
 "metadata": {
  "kernelspec": {
   "display_name": "Python 3",
   "language": "python",
   "name": "python3"
  },
  "language_info": {
   "codemirror_mode": {
    "name": "ipython",
    "version": 3
   },
   "file_extension": ".py",
   "mimetype": "text/x-python",
   "name": "python",
   "nbconvert_exporter": "python",
   "pygments_lexer": "ipython3",
   "version": "3.6.5"
  }
 },
 "nbformat": 4,
 "nbformat_minor": 2
}
