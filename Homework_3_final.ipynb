{
 "cells": [
  {
   "cell_type": "code",
   "execution_count": 2,
   "metadata": {},
   "outputs": [],
   "source": [
    "import pandas as pd\n",
    "import numpy as np\n",
    "import csv\n",
    "\n",
    "# library for storing and loading objects\n",
    "import pickle\n",
    "\n",
    "# library for stemming work\n",
    "import nltk\n",
    "#nltk.download('punkt')\n",
    "#nltk.download('stopwords')\n",
    "import string\n",
    "from nltk.corpus import stopwords\n",
    "from nltk.stem import PorterStemmer\n",
    "from nltk.tokenize import word_tokenize\n",
    "\n",
    "# library used to make inverted index\n",
    "from collections import defaultdict\n",
    "from collections import Counter\n",
    "\n",
    "# cosine distance\n",
    "from scipy.spatial.distance import cosine\n",
    "\n",
    "import math \n",
    "\n",
    "# heap_max library\n",
    "import heapq\n",
    "from heapq import heappush, heappop\n",
    "\n",
    "from geopy.geocoders import Nominatim\n",
    "from geopy import distance\n",
    "import functions\n",
    "\n",
    "# variable declarations\n",
    "path1 = 'data/docs/'\n",
    "path2 = '.tsv'\n",
    "#stemmed_path='data/tokenized_docs/'\n",
    "#sp = string.punctuation+'“”–’'"
   ]
  },
  {
   "cell_type": "markdown",
   "metadata": {},
   "source": [
    "# Step 2: Create documents\n",
    "    - Importing data from Airbnb_Texas_Rentals.csv and preparing it for pre processing"
   ]
  },
  {
   "cell_type": "code",
   "execution_count": 3,
   "metadata": {},
   "outputs": [
    {
     "data": {
      "text/html": [
       "<div>\n",
       "<style scoped>\n",
       "    .dataframe tbody tr th:only-of-type {\n",
       "        vertical-align: middle;\n",
       "    }\n",
       "\n",
       "    .dataframe tbody tr th {\n",
       "        vertical-align: top;\n",
       "    }\n",
       "\n",
       "    .dataframe thead th {\n",
       "        text-align: right;\n",
       "    }\n",
       "</style>\n",
       "<table border=\"1\" class=\"dataframe\">\n",
       "  <thead>\n",
       "    <tr style=\"text-align: right;\">\n",
       "      <th></th>\n",
       "      <th>average_rate_per_night</th>\n",
       "      <th>bedrooms_count</th>\n",
       "      <th>city</th>\n",
       "      <th>date_of_listing</th>\n",
       "      <th>description</th>\n",
       "      <th>latitude</th>\n",
       "      <th>longitude</th>\n",
       "      <th>title</th>\n",
       "      <th>url</th>\n",
       "    </tr>\n",
       "  </thead>\n",
       "  <tbody>\n",
       "    <tr>\n",
       "      <th>0</th>\n",
       "      <td>$27</td>\n",
       "      <td>2</td>\n",
       "      <td>Humble</td>\n",
       "      <td>May 2016</td>\n",
       "      <td>Welcome to stay in private room with queen bed...</td>\n",
       "      <td>30.020138</td>\n",
       "      <td>-95.293996</td>\n",
       "      <td>2 Private rooms/bathroom 10min from IAH airport</td>\n",
       "      <td>https://www.airbnb.com/rooms/18520444?location...</td>\n",
       "    </tr>\n",
       "    <tr>\n",
       "      <th>1</th>\n",
       "      <td>$149</td>\n",
       "      <td>4</td>\n",
       "      <td>San Antonio</td>\n",
       "      <td>November 2010</td>\n",
       "      <td>Stylish, fully remodeled home in upscale NW – ...</td>\n",
       "      <td>29.503068</td>\n",
       "      <td>-98.447688</td>\n",
       "      <td>Unique Location! Alamo Heights - Designer Insp...</td>\n",
       "      <td>https://www.airbnb.com/rooms/17481455?location...</td>\n",
       "    </tr>\n",
       "    <tr>\n",
       "      <th>2</th>\n",
       "      <td>$59</td>\n",
       "      <td>1</td>\n",
       "      <td>Houston</td>\n",
       "      <td>January 2017</td>\n",
       "      <td>'River house on island close to the city' \\nA ...</td>\n",
       "      <td>29.829352</td>\n",
       "      <td>-95.081549</td>\n",
       "      <td>River house near the city</td>\n",
       "      <td>https://www.airbnb.com/rooms/16926307?location...</td>\n",
       "    </tr>\n",
       "    <tr>\n",
       "      <th>3</th>\n",
       "      <td>$60</td>\n",
       "      <td>1</td>\n",
       "      <td>Bryan</td>\n",
       "      <td>February 2016</td>\n",
       "      <td>Private bedroom in a cute little home situated...</td>\n",
       "      <td>30.637304</td>\n",
       "      <td>-96.337846</td>\n",
       "      <td>Private Room Close to Campus</td>\n",
       "      <td>https://www.airbnb.com/rooms/11839729?location...</td>\n",
       "    </tr>\n",
       "    <tr>\n",
       "      <th>4</th>\n",
       "      <td>$75</td>\n",
       "      <td>2</td>\n",
       "      <td>Fort Worth</td>\n",
       "      <td>February 2017</td>\n",
       "      <td>Welcome to our original 1920's home. We recent...</td>\n",
       "      <td>32.747097</td>\n",
       "      <td>-97.286434</td>\n",
       "      <td>The Porch</td>\n",
       "      <td>https://www.airbnb.com/rooms/17325114?location...</td>\n",
       "    </tr>\n",
       "  </tbody>\n",
       "</table>\n",
       "</div>"
      ],
      "text/plain": [
       "  average_rate_per_night bedrooms_count         city date_of_listing  \\\n",
       "0                    $27              2       Humble        May 2016   \n",
       "1                   $149              4  San Antonio   November 2010   \n",
       "2                    $59              1      Houston    January 2017   \n",
       "3                    $60              1        Bryan   February 2016   \n",
       "4                    $75              2   Fort Worth   February 2017   \n",
       "\n",
       "                                         description   latitude  longitude  \\\n",
       "0  Welcome to stay in private room with queen bed...  30.020138 -95.293996   \n",
       "1  Stylish, fully remodeled home in upscale NW – ...  29.503068 -98.447688   \n",
       "2  'River house on island close to the city' \\nA ...  29.829352 -95.081549   \n",
       "3  Private bedroom in a cute little home situated...  30.637304 -96.337846   \n",
       "4  Welcome to our original 1920's home. We recent...  32.747097 -97.286434   \n",
       "\n",
       "                                               title  \\\n",
       "0    2 Private rooms/bathroom 10min from IAH airport   \n",
       "1  Unique Location! Alamo Heights - Designer Insp...   \n",
       "2                          River house near the city   \n",
       "3                       Private Room Close to Campus   \n",
       "4                                          The Porch   \n",
       "\n",
       "                                                 url  \n",
       "0  https://www.airbnb.com/rooms/18520444?location...  \n",
       "1  https://www.airbnb.com/rooms/17481455?location...  \n",
       "2  https://www.airbnb.com/rooms/16926307?location...  \n",
       "3  https://www.airbnb.com/rooms/11839729?location...  \n",
       "4  https://www.airbnb.com/rooms/17325114?location...  "
      ]
     },
     "execution_count": 3,
     "metadata": {},
     "output_type": "execute_result"
    }
   ],
   "source": [
    "texas1 = pd.read_csv(\"data/Airbnb_Texas_Rentals.csv\")\n",
    "texas1 = texas1.drop(['Unnamed: 0'], axis=1)\n",
    "texas1 = texas1.drop_duplicates()\n",
    "texas1 = texas1[np.isfinite(texas1['latitude'])]\n",
    "texas1 = texas1[np.isfinite(texas1['longitude'])]\n",
    "texas1.head()"
   ]
  },
  {
   "cell_type": "markdown",
   "metadata": {},
   "source": [
    "Preprocessing create the tsv files.\n",
    "\n",
    "We created vocabulary parsing every document and updating it when the algorithm finds a new word. \n",
    "\n",
    "Format of vocabulary => 'string':integer.\n",
    "\n",
    "Creation of ii1:\n",
    "\n",
    "The first inverted index is built, updating it every time a word is find in a document.\n",
    "At the end we stored vocabulary and the inverted index using pickle."
   ]
  },
  {
   "cell_type": "code",
   "execution_count": 26,
   "metadata": {},
   "outputs": [
    {
     "name": "stdout",
     "output_type": "stream",
     "text": [
      "[nltk_data] Downloading package punkt to /Users/miguel/nltk_data...\n",
      "[nltk_data]   Package punkt is already up-to-date!\n",
      "[nltk_data] Downloading package stopwords to\n",
      "[nltk_data]     /Users/miguel/nltk_data...\n",
      "[nltk_data]   Package stopwords is already up-to-date!\n"
     ]
    },
    {
     "data": {
      "text/plain": [
       "<module 'functions' from '/Users/miguel/Desktop/HW3/ADM18-HW3-Group29/functions.py'>"
      ]
     },
     "execution_count": 26,
     "metadata": {},
     "output_type": "execute_result"
    }
   ],
   "source": [
    "from importlib import reload\n",
    "reload(functions)"
   ]
  },
  {
   "cell_type": "markdown",
   "metadata": {},
   "source": [
    "# Step 3: Search Engine"
   ]
  },
  {
   "cell_type": "markdown",
   "metadata": {},
   "source": [
    "### 3.1.1) Preprocessing\n",
    "\n",
    "Store rows of dataframe as separate tsv files into a folder"
   ]
  },
  {
   "cell_type": "code",
   "execution_count": 12,
   "metadata": {},
   "outputs": [],
   "source": [
    "functions.preprocessing(texas1)"
   ]
  },
  {
   "cell_type": "markdown",
   "metadata": {},
   "source": [
    "### Creating the vocabulary and the inverted index 1\n",
    "We decided to create the vocabulary and inverted index 1 into the same methods because it's faster... \n",
    "\n",
    "\n",
    "#### WE HAVE TO OCOMMENT"
   ]
  },
  {
   "cell_type": "code",
   "execution_count": 13,
   "metadata": {},
   "outputs": [],
   "source": [
    "functions.create_vocabulary_and_ii1(texas1)"
   ]
  },
  {
   "cell_type": "markdown",
   "metadata": {},
   "source": [
    "## 3.1) Search engine 1"
   ]
  },
  {
   "cell_type": "code",
   "execution_count": 127,
   "metadata": {},
   "outputs": [
    {
     "name": "stdout",
     "output_type": "stream",
     "text": [
      "[nltk_data] Downloading package punkt to /Users/miguel/nltk_data...\n",
      "[nltk_data]   Package punkt is already up-to-date!\n",
      "[nltk_data] Downloading package stopwords to\n",
      "[nltk_data]     /Users/miguel/nltk_data...\n",
      "[nltk_data]   Package stopwords is already up-to-date!\n"
     ]
    },
    {
     "data": {
      "text/plain": [
       "<module 'functions' from '/Users/miguel/Desktop/HW3/ADM18-HW3-Group29/functions.py'>"
      ]
     },
     "execution_count": 127,
     "metadata": {},
     "output_type": "execute_result"
    }
   ],
   "source": [
    "reload(functions)"
   ]
  },
  {
   "cell_type": "code",
   "execution_count": 128,
   "metadata": {},
   "outputs": [
    {
     "data": {
      "text/html": [
       "<div>\n",
       "<style scoped>\n",
       "    .dataframe tbody tr th:only-of-type {\n",
       "        vertical-align: middle;\n",
       "    }\n",
       "\n",
       "    .dataframe tbody tr th {\n",
       "        vertical-align: top;\n",
       "    }\n",
       "\n",
       "    .dataframe thead th {\n",
       "        text-align: right;\n",
       "    }\n",
       "</style>\n",
       "<table border=\"1\" class=\"dataframe\">\n",
       "  <thead>\n",
       "    <tr style=\"text-align: right;\">\n",
       "      <th></th>\n",
       "      <th>Title</th>\n",
       "      <th>Description</th>\n",
       "      <th>City</th>\n",
       "      <th>Url</th>\n",
       "    </tr>\n",
       "  </thead>\n",
       "  <tbody>\n",
       "    <tr>\n",
       "      <th>1</th>\n",
       "      <td>Zen &amp; the Art of the Ranch House</td>\n",
       "      <td>A much-loved family home nestled in a serene g...</td>\n",
       "      <td>Irving</td>\n",
       "      <td>https://www.airbnb.com/rooms/11502964?location...</td>\n",
       "    </tr>\n",
       "    <tr>\n",
       "      <th>2</th>\n",
       "      <td>The Fortress for your comfort.</td>\n",
       "      <td>The Fortress is a two story ranch style house ...</td>\n",
       "      <td>Austin</td>\n",
       "      <td>https://www.airbnb.com/rooms/11160635?location...</td>\n",
       "    </tr>\n",
       "    <tr>\n",
       "      <th>3</th>\n",
       "      <td>GraceGardens: Rustic Oak Cabin</td>\n",
       "      <td>Enchanting retreat on the San Marcos River in ...</td>\n",
       "      <td>Martindale</td>\n",
       "      <td>https://www.airbnb.com/rooms/964091?location=B...</td>\n",
       "    </tr>\n",
       "    <tr>\n",
       "      <th>4</th>\n",
       "      <td>Rosen House Inn, Rose Garden Room</td>\n",
       "      <td>We are a small family owned Bed and Breakfast ...</td>\n",
       "      <td>Fort Worth</td>\n",
       "      <td>https://www.airbnb.com/rooms/9972447?location=...</td>\n",
       "    </tr>\n",
       "    <tr>\n",
       "      <th>5</th>\n",
       "      <td>Arlington Heights Guest House Cottage</td>\n",
       "      <td>Bright,Open and Airy Cottage. Great location t...</td>\n",
       "      <td>Fort Worth</td>\n",
       "      <td>https://www.airbnb.com/rooms/18557788?location...</td>\n",
       "    </tr>\n",
       "  </tbody>\n",
       "</table>\n",
       "</div>"
      ],
      "text/plain": [
       "                                   Title  \\\n",
       "1       Zen & the Art of the Ranch House   \n",
       "2         The Fortress for your comfort.   \n",
       "3         GraceGardens: Rustic Oak Cabin   \n",
       "4      Rosen House Inn, Rose Garden Room   \n",
       "5  Arlington Heights Guest House Cottage   \n",
       "\n",
       "                                         Description        City  \\\n",
       "1  A much-loved family home nestled in a serene g...      Irving   \n",
       "2  The Fortress is a two story ranch style house ...      Austin   \n",
       "3  Enchanting retreat on the San Marcos River in ...  Martindale   \n",
       "4  We are a small family owned Bed and Breakfast ...  Fort Worth   \n",
       "5  Bright,Open and Airy Cottage. Great location t...  Fort Worth   \n",
       "\n",
       "                                                 Url  \n",
       "1  https://www.airbnb.com/rooms/11502964?location...  \n",
       "2  https://www.airbnb.com/rooms/11160635?location...  \n",
       "3  https://www.airbnb.com/rooms/964091?location=B...  \n",
       "4  https://www.airbnb.com/rooms/9972447?location=...  \n",
       "5  https://www.airbnb.com/rooms/18557788?location...  "
      ]
     },
     "execution_count": 128,
     "metadata": {},
     "output_type": "execute_result"
    }
   ],
   "source": [
    "res = functions.search_engine_1('House with garden')\n",
    "res"
   ]
  },
  {
   "cell_type": "markdown",
   "metadata": {},
   "source": [
    "## 3.2) Conjunctive query & Ranking score"
   ]
  },
  {
   "cell_type": "markdown",
   "metadata": {},
   "source": [
    "### 3.2.1) Inverted index"
   ]
  },
  {
   "cell_type": "code",
   "execution_count": 5,
   "metadata": {},
   "outputs": [],
   "source": [
    "functions.inverted_index_TFIDF(texas1)"
   ]
  },
  {
   "cell_type": "markdown",
   "metadata": {},
   "source": [
    "### 3.2.2) Execute the query"
   ]
  },
  {
   "cell_type": "markdown",
   "metadata": {},
   "source": [
    "We decided to create the new search engine (second) basing on the inverted indexes already built, but cutting them: in this way the laptop will have less computation than to compute everything.\n",
    "Thus, every time we have a new query, the method generates 2 different inverted indexes.\n",
    "\n",
    "In this way, we won't need a big numpy array for the query and each document considered (we took docs that contained every word, using intersection (for this purpose we took the first inverted index)) for making the cosine similarity (for this we exploited the second inverted index) ; in fact, vectors for computing cosine similarity will be exactly long like the length of the query. \n",
    "Query will have 1 for each element (?)(still to decide) and doc vector will have each tfidf for each term of the query.\n",
    "\n",
    "$$ 1-cosine(\\text{doc array for the query},\\text{array of query}) $$\n",
    "will compute the Cosine Similarity\n",
    "\n"
   ]
  },
  {
   "cell_type": "code",
   "execution_count": 129,
   "metadata": {},
   "outputs": [
    {
     "data": {
      "text/html": [
       "<div>\n",
       "<style scoped>\n",
       "    .dataframe tbody tr th:only-of-type {\n",
       "        vertical-align: middle;\n",
       "    }\n",
       "\n",
       "    .dataframe tbody tr th {\n",
       "        vertical-align: top;\n",
       "    }\n",
       "\n",
       "    .dataframe thead th {\n",
       "        text-align: right;\n",
       "    }\n",
       "</style>\n",
       "<table border=\"1\" class=\"dataframe\">\n",
       "  <thead>\n",
       "    <tr style=\"text-align: right;\">\n",
       "      <th></th>\n",
       "      <th>Title</th>\n",
       "      <th>Description</th>\n",
       "      <th>City</th>\n",
       "      <th>Url</th>\n",
       "      <th>Similarity</th>\n",
       "    </tr>\n",
       "  </thead>\n",
       "  <tbody>\n",
       "    <tr>\n",
       "      <th>1</th>\n",
       "      <td>Allegro North First Floor Condo for 7 guests</td>\n",
       "      <td>Two bedroom, two bathroom condo with master su...</td>\n",
       "      <td>Rockport</td>\n",
       "      <td>https://www.airbnb.com/rooms/18157657?location...</td>\n",
       "      <td>0.864</td>\n",
       "    </tr>\n",
       "    <tr>\n",
       "      <th>2</th>\n",
       "      <td>Condo 305 is Comfortable, Economical on beach</td>\n",
       "      <td>Our home is designed for comfort and convenien...</td>\n",
       "      <td>South Padre Island</td>\n",
       "      <td>https://www.airbnb.com/rooms/11580397?location...</td>\n",
       "      <td>0.855</td>\n",
       "    </tr>\n",
       "    <tr>\n",
       "      <th>3</th>\n",
       "      <td>North Padre Island room beach 1M</td>\n",
       "      <td>My wife and I will welcome you into our home a...</td>\n",
       "      <td>Corpus Christi</td>\n",
       "      <td>https://www.airbnb.com/rooms/3767705?location=...</td>\n",
       "      <td>0.855</td>\n",
       "    </tr>\n",
       "    <tr>\n",
       "      <th>4</th>\n",
       "      <td>North Padre Island room beach 1M</td>\n",
       "      <td>My wife and I will welcome you into our home a...</td>\n",
       "      <td>Corpus Christi</td>\n",
       "      <td>https://www.airbnb.com/rooms/3767705?location=...</td>\n",
       "      <td>0.855</td>\n",
       "    </tr>\n",
       "    <tr>\n",
       "      <th>5</th>\n",
       "      <td>Private Bedroom (queen)/Bathroom in Beautiful ...</td>\n",
       "      <td>Beautiful 3 bedroom/2 bath house (1 private gu...</td>\n",
       "      <td>Corpus Christi</td>\n",
       "      <td>https://www.airbnb.com/rooms/19484822?location...</td>\n",
       "      <td>0.708</td>\n",
       "    </tr>\n",
       "  </tbody>\n",
       "</table>\n",
       "</div>"
      ],
      "text/plain": [
       "                                               Title  \\\n",
       "1       Allegro North First Floor Condo for 7 guests   \n",
       "2      Condo 305 is Comfortable, Economical on beach   \n",
       "3                   North Padre Island room beach 1M   \n",
       "4                   North Padre Island room beach 1M   \n",
       "5  Private Bedroom (queen)/Bathroom in Beautiful ...   \n",
       "\n",
       "                                         Description                City  \\\n",
       "1  Two bedroom, two bathroom condo with master su...            Rockport   \n",
       "2  Our home is designed for comfort and convenien...  South Padre Island   \n",
       "3  My wife and I will welcome you into our home a...      Corpus Christi   \n",
       "4  My wife and I will welcome you into our home a...      Corpus Christi   \n",
       "5  Beautiful 3 bedroom/2 bath house (1 private gu...      Corpus Christi   \n",
       "\n",
       "                                                 Url  Similarity  \n",
       "1  https://www.airbnb.com/rooms/18157657?location...       0.864  \n",
       "2  https://www.airbnb.com/rooms/11580397?location...       0.855  \n",
       "3  https://www.airbnb.com/rooms/3767705?location=...       0.855  \n",
       "4  https://www.airbnb.com/rooms/3767705?location=...       0.855  \n",
       "5  https://www.airbnb.com/rooms/19484822?location...       0.708  "
      ]
     },
     "execution_count": 129,
     "metadata": {},
     "output_type": "execute_result"
    }
   ],
   "source": [
    "res = functions.search_engine_2('Beach, two rooms with private bathroom')\n",
    "res"
   ]
  },
  {
   "cell_type": "code",
   "execution_count": null,
   "metadata": {},
   "outputs": [],
   "source": []
  },
  {
   "cell_type": "code",
   "execution_count": null,
   "metadata": {},
   "outputs": [],
   "source": []
  },
  {
   "cell_type": "code",
   "execution_count": null,
   "metadata": {},
   "outputs": [],
   "source": []
  },
  {
   "cell_type": "code",
   "execution_count": null,
   "metadata": {},
   "outputs": [],
   "source": []
  },
  {
   "cell_type": "code",
   "execution_count": null,
   "metadata": {},
   "outputs": [],
   "source": []
  },
  {
   "cell_type": "markdown",
   "metadata": {},
   "source": [
    "# Step 4: Define a new score!"
   ]
  },
  {
   "cell_type": "markdown",
   "metadata": {},
   "source": [
    "### 'search_engine_1' is the function which assigns ranking for each documents from some information inputted by users. \n",
    "\n",
    "As we have done in the previous question 3.1 with searching engine 1, this new method will bring some documents which satisfy a text query at first. \n",
    "Moreover, besides the a text query, it allows the users to input 'target price (price)', 'the number of rooms (room)' and 'location'. These are the attributes whith whom we will evaluate documents matched with search engine 1 algorithm.\n",
    "\n",
    "Each rank takes values from 0 to 1.\n",
    "In this way we are able to make a weighted average, giving different weight to the attributes.\n",
    "We weigh target price, the number of rooms and location as 0.3 , 0.1 and 0.6 respectively. \n",
    "It is obvious that the location should have more weight among these information. In addition, we make a difference between target price and the number of rooms, since we consider the price would be more important than the number of rooms.\n",
    "\n",
    "### In terms of scoring by each information, we create functions to give the points to each different document. \n",
    "\n",
    "#### Target price : ( Function name is 'price_rank' )\n",
    "We score the low point if the difference between the target price that users desire and price of documents is big. We decide to make the score as a linear function that decrease linearly with the absolute difference between target price and document price with slope of 0.01. In this case we are able to spread ranks related to the target price in a very smooth way. Since we want a rank value between 0 and 1, we had to define properly the domain of our function. \n",
    "\n",
    "$$ \\text{price_rank}_\\text{doc_i} = 1 - \\frac{1}{100} \\times \\left| \\text{ price_target} - \\text{price_doc_i } \\right| $$\n",
    "\n",
    "In case that the price difference is equal or greater than 100, the price rank is 0 point.\n",
    "\n",
    "#### The number of rooms:  ( Function name is 'rooms_rank' )\n",
    "As with target price, we assign each point according to the difference between the number of rooms that users desire and that of documents. \n",
    "\n",
    "When the difference is 0, 1, 2 and 3, it returns 1, 0.7, 0.4 and 0.1 respectively. We regard studio room as single room. \n",
    "If it becomes more than 4, it returns 0. \n",
    "\n",
    "#### Location : ( Function name is 'distance_rank' ) \n",
    "It gives points depending on the distance from the location desired to the bnb. \n",
    "We use geopy to find the latitude and longitude of locations and to calculate the distance between the place searched and the position of the documents.ude of locations and to calculate the distance between 2 places.  \n",
    "\n",
    "Once we find this out, the funciton that returns points is as follows. \n",
    "$$  \\text{location_rank}_\\text{doc_i}  = 1 -  \\frac{\\text{distance}}{1 + \\text{distance}}$$\n",
    "It is clear that the farther the distance is, the lower the point is. Therefore, we apply this function because it goes smoothly to 0 from 1 asymptotically, in this way, after we compute the distance, we can take the value 1 - function, to get results inversely proportional to the radius. "
   ]
  },
  {
   "cell_type": "code",
   "execution_count": 118,
   "metadata": {},
   "outputs": [
    {
     "name": "stdout",
     "output_type": "stream",
     "text": [
      "target price:\n",
      "50\n",
      "n rooms:\n",
      "2\n",
      "location\n",
      "dallas\n",
      "Found 409 documents\n"
     ]
    },
    {
     "data": {
      "text/html": [
       "<div>\n",
       "<style scoped>\n",
       "    .dataframe tbody tr th:only-of-type {\n",
       "        vertical-align: middle;\n",
       "    }\n",
       "\n",
       "    .dataframe tbody tr th {\n",
       "        vertical-align: top;\n",
       "    }\n",
       "\n",
       "    .dataframe thead th {\n",
       "        text-align: right;\n",
       "    }\n",
       "</style>\n",
       "<table border=\"1\" class=\"dataframe\">\n",
       "  <thead>\n",
       "    <tr style=\"text-align: right;\">\n",
       "      <th></th>\n",
       "      <th>Ranking</th>\n",
       "      <th>Title</th>\n",
       "      <th>Description</th>\n",
       "      <th>City</th>\n",
       "      <th>Url</th>\n",
       "    </tr>\n",
       "  </thead>\n",
       "  <tbody>\n",
       "    <tr>\n",
       "      <th>0</th>\n",
       "      <td>1</td>\n",
       "      <td>North Dallas Private Room with Balcony</td>\n",
       "      <td>Our home is located in North Dallas in a quiet...</td>\n",
       "      <td>Dallas</td>\n",
       "      <td>https://www.airbnb.com/rooms/13898075?location...</td>\n",
       "    </tr>\n",
       "    <tr>\n",
       "      <th>1</th>\n",
       "      <td>2</td>\n",
       "      <td>North Dallas Private Room with Balcony</td>\n",
       "      <td>Our home is located in North Dallas in a quiet...</td>\n",
       "      <td>Dallas</td>\n",
       "      <td>https://www.airbnb.com/rooms/13898075?location...</td>\n",
       "    </tr>\n",
       "    <tr>\n",
       "      <th>2</th>\n",
       "      <td>3</td>\n",
       "      <td>Business OR Pleasure Townhome</td>\n",
       "      <td>Large floor plan with 2 master bedrooms - one ...</td>\n",
       "      <td>Dallas</td>\n",
       "      <td>https://www.airbnb.com/rooms/19055683?location...</td>\n",
       "    </tr>\n",
       "    <tr>\n",
       "      <th>3</th>\n",
       "      <td>4</td>\n",
       "      <td>Beautiful room Available.</td>\n",
       "      <td>In the Heart of Euless, Texas. Close proximity...</td>\n",
       "      <td>Euless</td>\n",
       "      <td>https://www.airbnb.com/rooms/8205181?location=...</td>\n",
       "    </tr>\n",
       "    <tr>\n",
       "      <th>4</th>\n",
       "      <td>5</td>\n",
       "      <td>Beautiful room Available.</td>\n",
       "      <td>In the Heart of Euless, Texas. Close proximity...</td>\n",
       "      <td>Euless</td>\n",
       "      <td>https://www.airbnb.com/rooms/8205181?location=...</td>\n",
       "    </tr>\n",
       "  </tbody>\n",
       "</table>\n",
       "</div>"
      ],
      "text/plain": [
       "   Ranking                                   Title  \\\n",
       "0        1  North Dallas Private Room with Balcony   \n",
       "1        2  North Dallas Private Room with Balcony   \n",
       "2        3           Business OR Pleasure Townhome   \n",
       "3        4               Beautiful room Available.   \n",
       "4        5               Beautiful room Available.   \n",
       "\n",
       "                                         Description    City  \\\n",
       "0  Our home is located in North Dallas in a quiet...  Dallas   \n",
       "1  Our home is located in North Dallas in a quiet...  Dallas   \n",
       "2  Large floor plan with 2 master bedrooms - one ...  Dallas   \n",
       "3  In the Heart of Euless, Texas. Close proximity...  Euless   \n",
       "4  In the Heart of Euless, Texas. Close proximity...  Euless   \n",
       "\n",
       "                                                 Url  \n",
       "0  https://www.airbnb.com/rooms/13898075?location...  \n",
       "1  https://www.airbnb.com/rooms/13898075?location...  \n",
       "2  https://www.airbnb.com/rooms/19055683?location...  \n",
       "3  https://www.airbnb.com/rooms/8205181?location=...  \n",
       "4  https://www.airbnb.com/rooms/8205181?location=...  "
      ]
     },
     "execution_count": 118,
     "metadata": {},
     "output_type": "execute_result"
    }
   ],
   "source": [
    "functions.search_engine_3('Swimming pool')"
   ]
  },
  {
   "cell_type": "code",
   "execution_count": null,
   "metadata": {},
   "outputs": [],
   "source": []
  },
  {
   "cell_type": "code",
   "execution_count": null,
   "metadata": {},
   "outputs": [],
   "source": []
  },
  {
   "cell_type": "code",
   "execution_count": null,
   "metadata": {},
   "outputs": [],
   "source": []
  },
  {
   "cell_type": "code",
   "execution_count": null,
   "metadata": {},
   "outputs": [],
   "source": []
  },
  {
   "cell_type": "code",
   "execution_count": null,
   "metadata": {},
   "outputs": [],
   "source": []
  },
  {
   "cell_type": "code",
   "execution_count": null,
   "metadata": {},
   "outputs": [],
   "source": []
  }
 ],
 "metadata": {
  "kernelspec": {
   "display_name": "Python 3",
   "language": "python",
   "name": "python3"
  },
  "language_info": {
   "codemirror_mode": {
    "name": "ipython",
    "version": 3
   },
   "file_extension": ".py",
   "mimetype": "text/x-python",
   "name": "python",
   "nbconvert_exporter": "python",
   "pygments_lexer": "ipython3",
   "version": "3.6.5"
  }
 },
 "nbformat": 4,
 "nbformat_minor": 2
}
