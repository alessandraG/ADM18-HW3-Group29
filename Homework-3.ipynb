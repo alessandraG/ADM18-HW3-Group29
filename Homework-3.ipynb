{
 "cells": [
  {
   "cell_type": "code",
   "execution_count": 208,
   "metadata": {},
   "outputs": [
    {
     "name": "stdout",
     "output_type": "stream",
     "text": [
      "[nltk_data] Downloading package punkt to /Users/miguel/nltk_data...\n",
      "[nltk_data]   Package punkt is already up-to-date!\n",
      "[nltk_data] Downloading package stopwords to\n",
      "[nltk_data]     /Users/miguel/nltk_data...\n",
      "[nltk_data]   Package stopwords is already up-to-date!\n"
     ]
    }
   ],
   "source": [
    "import pandas as pd\n",
    "import pickle\n",
    "import csv\n",
    "import nltk\n",
    "nltk.download('punkt')\n",
    "nltk.download('stopwords')\n",
    "import string\n",
    "from nltk.corpus import stopwords\n",
    "from nltk.stem import PorterStemmer\n",
    "from nltk.tokenize import word_tokenize"
   ]
  },
  {
   "cell_type": "markdown",
   "metadata": {},
   "source": [
    "# Import data"
   ]
  },
  {
   "cell_type": "code",
   "execution_count": 3,
   "metadata": {},
   "outputs": [],
   "source": [
    "texas1 = pd.read_csv(\"data/Airbnb_Texas_Rentals.csv\")\n",
    "texas1 = texas1.drop(['Unnamed: 0'], axis=1)"
   ]
  },
  {
   "cell_type": "code",
   "execution_count": 11,
   "metadata": {},
   "outputs": [
    {
     "data": {
      "text/html": [
       "<div>\n",
       "<style scoped>\n",
       "    .dataframe tbody tr th:only-of-type {\n",
       "        vertical-align: middle;\n",
       "    }\n",
       "\n",
       "    .dataframe tbody tr th {\n",
       "        vertical-align: top;\n",
       "    }\n",
       "\n",
       "    .dataframe thead th {\n",
       "        text-align: right;\n",
       "    }\n",
       "</style>\n",
       "<table border=\"1\" class=\"dataframe\">\n",
       "  <thead>\n",
       "    <tr style=\"text-align: right;\">\n",
       "      <th></th>\n",
       "      <th>average_rate_per_night</th>\n",
       "      <th>bedrooms_count</th>\n",
       "      <th>city</th>\n",
       "      <th>date_of_listing</th>\n",
       "      <th>description</th>\n",
       "      <th>latitude</th>\n",
       "      <th>longitude</th>\n",
       "      <th>title</th>\n",
       "      <th>url</th>\n",
       "    </tr>\n",
       "  </thead>\n",
       "  <tbody>\n",
       "    <tr>\n",
       "      <th>0</th>\n",
       "      <td>$27</td>\n",
       "      <td>2</td>\n",
       "      <td>Humble</td>\n",
       "      <td>May 2016</td>\n",
       "      <td>Welcome to stay in private room with queen bed...</td>\n",
       "      <td>30.020138</td>\n",
       "      <td>-95.293996</td>\n",
       "      <td>2 Private rooms/bathroom 10min from IAH airport</td>\n",
       "      <td>https://www.airbnb.com/rooms/18520444?location...</td>\n",
       "    </tr>\n",
       "    <tr>\n",
       "      <th>1</th>\n",
       "      <td>$149</td>\n",
       "      <td>4</td>\n",
       "      <td>San Antonio</td>\n",
       "      <td>November 2010</td>\n",
       "      <td>Stylish, fully remodeled home in upscale NW – ...</td>\n",
       "      <td>29.503068</td>\n",
       "      <td>-98.447688</td>\n",
       "      <td>Unique Location! Alamo Heights - Designer Insp...</td>\n",
       "      <td>https://www.airbnb.com/rooms/17481455?location...</td>\n",
       "    </tr>\n",
       "    <tr>\n",
       "      <th>2</th>\n",
       "      <td>$59</td>\n",
       "      <td>1</td>\n",
       "      <td>Houston</td>\n",
       "      <td>January 2017</td>\n",
       "      <td>'River house on island close to the city' \\nA ...</td>\n",
       "      <td>29.829352</td>\n",
       "      <td>-95.081549</td>\n",
       "      <td>River house near the city</td>\n",
       "      <td>https://www.airbnb.com/rooms/16926307?location...</td>\n",
       "    </tr>\n",
       "    <tr>\n",
       "      <th>3</th>\n",
       "      <td>$60</td>\n",
       "      <td>1</td>\n",
       "      <td>Bryan</td>\n",
       "      <td>February 2016</td>\n",
       "      <td>Private bedroom in a cute little home situated...</td>\n",
       "      <td>30.637304</td>\n",
       "      <td>-96.337846</td>\n",
       "      <td>Private Room Close to Campus</td>\n",
       "      <td>https://www.airbnb.com/rooms/11839729?location...</td>\n",
       "    </tr>\n",
       "    <tr>\n",
       "      <th>4</th>\n",
       "      <td>$75</td>\n",
       "      <td>2</td>\n",
       "      <td>Fort Worth</td>\n",
       "      <td>February 2017</td>\n",
       "      <td>Welcome to our original 1920's home. We recent...</td>\n",
       "      <td>32.747097</td>\n",
       "      <td>-97.286434</td>\n",
       "      <td>The Porch</td>\n",
       "      <td>https://www.airbnb.com/rooms/17325114?location...</td>\n",
       "    </tr>\n",
       "  </tbody>\n",
       "</table>\n",
       "</div>"
      ],
      "text/plain": [
       "  average_rate_per_night bedrooms_count         city date_of_listing                                        description   latitude  longitude                                              title                                                url\n",
       "0                    $27              2       Humble        May 2016  Welcome to stay in private room with queen bed...  30.020138 -95.293996    2 Private rooms/bathroom 10min from IAH airport  https://www.airbnb.com/rooms/18520444?location...\n",
       "1                   $149              4  San Antonio   November 2010  Stylish, fully remodeled home in upscale NW – ...  29.503068 -98.447688  Unique Location! Alamo Heights - Designer Insp...  https://www.airbnb.com/rooms/17481455?location...\n",
       "2                    $59              1      Houston    January 2017  'River house on island close to the city' \\nA ...  29.829352 -95.081549                          River house near the city  https://www.airbnb.com/rooms/16926307?location...\n",
       "3                    $60              1        Bryan   February 2016  Private bedroom in a cute little home situated...  30.637304 -96.337846                       Private Room Close to Campus  https://www.airbnb.com/rooms/11839729?location...\n",
       "4                    $75              2   Fort Worth   February 2017  Welcome to our original 1920's home. We recent...  32.747097 -97.286434                                          The Porch  https://www.airbnb.com/rooms/17325114?location..."
      ]
     },
     "execution_count": 11,
     "metadata": {},
     "output_type": "execute_result"
    }
   ],
   "source": [
    "#pd.set_option('expand_frame_repr',False)\n",
    "texas1.head()"
   ]
  },
  {
   "cell_type": "markdown",
   "metadata": {},
   "source": [
    "# Create docuemnts as tsv file"
   ]
  },
  {
   "cell_type": "code",
   "execution_count": 26,
   "metadata": {},
   "outputs": [],
   "source": [
    "path1 = 'data/docs/'\n",
    "path2 = '.tsv'\n",
    "stemmed_path='data/tokenized_docs/'\n",
    "sp = string.punctuation+'“”–’'\n",
    "\n"
   ]
  },
  {
   "cell_type": "code",
   "execution_count": 24,
   "metadata": {},
   "outputs": [],
   "source": [
    "def remove_step(doc):\n",
    "    \"\"\"\n",
    "    takes as input the string of the document\n",
    "    removes stopwords, punctuation and makes stemming \n",
    "    \"\"\"\n",
    "    \n",
    "    # check if it's a nan value \n",
    "\n",
    "    if isinstance(doc, float):\n",
    "        return str(doc)\n",
    "    \n",
    "    doc=doc.replace(\"\\\\n\", \" \")\n",
    "    # punctuations\n",
    "    doc = [ c if c not in sp else \" \"  for c in doc ]\n",
    "    doc = ''.join(doc)\n",
    "    # stopwords\n",
    "    doc = [ word for word in doc.split() if word.lower() not in stopwords.words('english') ]\n",
    "    doc = ' '.join(doc)\n",
    "    \n",
    "    # stemming\n",
    "    ps = PorterStemmer()\n",
    "    words = word_tokenize(doc)\n",
    "    \n",
    "    w_lst = []\n",
    "    for w in words:\n",
    "        w_lst.append(ps.stem(w))\n",
    "    \n",
    "    # something else\n",
    "    \n",
    "    return ' '.join(w_lst)"
   ]
  },
  {
   "cell_type": "code",
   "execution_count": 12,
   "metadata": {},
   "outputs": [],
   "source": [
    "def store_ii1_voc(vocabulary, ii1):\n",
    "    \n",
    "    with open('data/vocabulary.csv', 'w') as fp:\n",
    "        writer = csv.writer(fp)\n",
    "        for key, value in vocabulary.items():\n",
    "            writer.writerow([key, value])\n",
    "\n",
    "    with open('data/inverted_index_1.csv', 'w') as fp:\n",
    "        writer = csv.writer(fp)\n",
    "        for key, value in ii1.items():\n",
    "            writer.writerow([key, value])\n",
    "    return"
   ]
  },
  {
   "cell_type": "code",
   "execution_count": null,
   "metadata": {},
   "outputs": [],
   "source": [
    "def save_obj(obj, name):\n",
    "    with open('data/'+ name + '.pkl', 'wb') as f:\n",
    "        pickle.dump(obj, f, pickle.HIGHEST_PROTOCOL)\n",
    "\n",
    "def load_obj(name):\n",
    "    with open('data/' + name + '.pkl', 'rb') as f:\n",
    "        return pickle.load(f)"
   ]
  },
  {
   "cell_type": "code",
   "execution_count": 214,
   "metadata": {},
   "outputs": [],
   "source": [
    "def preprocessing(data):\n",
    "    n=len(data)\n",
    "    vocabulary = {}\n",
    "    cnt = 0\n",
    "    ii1 = {}\n",
    "\n",
    "    for i in range(n):\n",
    "        with open(path1 + 'doc_'+ str(i) + '.tsv', 'w') as doc:\n",
    "            a = csv.writer(doc, delimiter='\\t')\n",
    "            a.writerow([data.iloc[i]['average_rate_per_night'],data.iloc[i]['bedrooms_count'] \n",
    "                      ,data.iloc[i]['city'] ,data.iloc[i]['date_of_listing'], data.iloc[i]['description']\n",
    "                      ,data.iloc[i]['latitude'],data.iloc[i]['longitude'] ,data.iloc[i]['title'] ,data.iloc[i]['url']])\n",
    "\n",
    "            # creating a tokenized string with title and description\n",
    "            tokenized_str = remove_step(data.iloc[i]['title']) + ' ' + remove_step(data.iloc[i]['description'])\n",
    "        \n",
    "            # add new words into the vocabulary and ii1 (inverted index 1)\n",
    "\n",
    "            for term in tokenized_str.split(' '):\n",
    "                if term in vocabulary.keys():\n",
    "                    term_id = vocabulary[term]\n",
    "                else:\n",
    "                    vocabulary[term] = cnt\n",
    "                    term_id = cnt\n",
    "                    cnt+=1\n",
    "\n",
    "                if term_id not in ii1:\n",
    "                    ii1[term_id] = ['doc_'+str(i)]\n",
    "                else:\n",
    "                    lista = ii1[term_id]\n",
    "                    document = 'doc_'+str(i)\n",
    "                    if document in lista:\n",
    "                        continue\n",
    "                    else:        \n",
    "                        ii1[term_id].append('doc_'+str(i))\n",
    "            \n",
    "    # store vocabulary in pickle format\n",
    "    save_obj(vocabulary, 'vocabulary')\n",
    "    save_obj(ii1, 'inverted_index_1')\n",
    "    return        \n",
    "            "
   ]
  },
  {
   "cell_type": "code",
   "execution_count": 217,
   "metadata": {},
   "outputs": [
    {
     "name": "stdout",
     "output_type": "stream",
     "text": [
      "nan\n",
      "nan\n",
      "nan\n",
      "nan\n",
      "nan\n"
     ]
    }
   ],
   "source": [
    "# do not run if you don't want to waste time :-D \n",
    "preprocessing(texas1)"
   ]
  },
  {
   "cell_type": "code",
   "execution_count": null,
   "metadata": {},
   "outputs": [],
   "source": []
  },
  {
   "cell_type": "code",
   "execution_count": null,
   "metadata": {},
   "outputs": [],
   "source": []
  },
  {
   "cell_type": "code",
   "execution_count": 223,
   "metadata": {},
   "outputs": [],
   "source": [
    "def search_engine_1(query): \n",
    "    \n",
    "    query = remove_step(query)\n",
    "    query = list(set(query.split(' ')))\n",
    "    \n",
    "    lst_of_lst=[]\n",
    "    \n",
    "    vocabulary = load_obj('vocabulary')\n",
    "    ii1 = load_obj('inverted_index_1')\n",
    "    \n",
    "    for w in query:\n",
    "        if w not in vocabulary:\n",
    "            print('No results')\n",
    "            return\n",
    "        i = vocabulary[w]\n",
    "        lst_of_lst.append(ii1[i])\n",
    "\n",
    "\n",
    "    doc_list = set.intersection(*[set(sublist) for sublist in lst_of_lst])\n",
    "    doc_list = list(doc_list)\n",
    "    dl = len(doc_list)\n",
    "    \n",
    "    if dl ==0:\n",
    "        print('No results')\n",
    "        return\n",
    "\n",
    "    list_for_df=[]\n",
    "    for i in range(dl):\n",
    "        with open (\"data/docs/\" + doc_list[i] + '.tsv') as doc:\n",
    "            row = doc.read()\n",
    "            lst = row.split('\\t')\n",
    "            lst = [lst[7],lst[4],lst[2],lst[8]]\n",
    "            list_for_df.append(lst)\n",
    "        \n",
    "    df=pd.DataFrame(list_for_df, columns=['Title', 'Description', 'City', 'Url'])\n",
    "    \n",
    "    return df.head(3)   \n",
    "        "
   ]
  },
  {
   "cell_type": "code",
   "execution_count": 248,
   "metadata": {},
   "outputs": [
    {
     "data": {
      "text/html": [
       "<div>\n",
       "<style scoped>\n",
       "    .dataframe tbody tr th:only-of-type {\n",
       "        vertical-align: middle;\n",
       "    }\n",
       "\n",
       "    .dataframe tbody tr th {\n",
       "        vertical-align: top;\n",
       "    }\n",
       "\n",
       "    .dataframe thead th {\n",
       "        text-align: right;\n",
       "    }\n",
       "</style>\n",
       "<table border=\"1\" class=\"dataframe\">\n",
       "  <thead>\n",
       "    <tr style=\"text-align: right;\">\n",
       "      <th></th>\n",
       "      <th>Title</th>\n",
       "      <th>Description</th>\n",
       "      <th>City</th>\n",
       "      <th>Url</th>\n",
       "    </tr>\n",
       "  </thead>\n",
       "  <tbody>\n",
       "    <tr>\n",
       "      <th>0</th>\n",
       "      <td>The Little House on the Hill</td>\n",
       "      <td>Hi, I'm Adam from Austin, Texas and I am excit...</td>\n",
       "      <td>Austin</td>\n",
       "      <td>https://www.airbnb.com/rooms/895403?location=B...</td>\n",
       "    </tr>\n",
       "    <tr>\n",
       "      <th>1</th>\n",
       "      <td>The Little House on the Hill</td>\n",
       "      <td>Hi, I'm Adam from Austin, Texas and I am excit...</td>\n",
       "      <td>Austin</td>\n",
       "      <td>https://www.airbnb.com/rooms/895403?location=B...</td>\n",
       "    </tr>\n",
       "    <tr>\n",
       "      <th>2</th>\n",
       "      <td>The Little House on the Hill</td>\n",
       "      <td>Hi, I'm Adam from Austin, Texas and I am excit...</td>\n",
       "      <td>Austin</td>\n",
       "      <td>https://www.airbnb.com/rooms/895403?location=C...</td>\n",
       "    </tr>\n",
       "  </tbody>\n",
       "</table>\n",
       "</div>"
      ],
      "text/plain": [
       "                          Title                                        Description    City                                                Url\n",
       "0  The Little House on the Hill  Hi, I'm Adam from Austin, Texas and I am excit...  Austin  https://www.airbnb.com/rooms/895403?location=B...\n",
       "1  The Little House on the Hill  Hi, I'm Adam from Austin, Texas and I am excit...  Austin  https://www.airbnb.com/rooms/895403?location=B...\n",
       "2  The Little House on the Hill  Hi, I'm Adam from Austin, Texas and I am excit...  Austin  https://www.airbnb.com/rooms/895403?location=C..."
      ]
     },
     "execution_count": 248,
     "metadata": {},
     "output_type": "execute_result"
    }
   ],
   "source": [
    "search_engine_1('yellow cabs')\n"
   ]
  },
  {
   "cell_type": "code",
   "execution_count": null,
   "metadata": {},
   "outputs": [],
   "source": []
  }
 ],
 "metadata": {
  "kernelspec": {
   "display_name": "Python 3",
   "language": "python",
   "name": "python3"
  },
  "language_info": {
   "codemirror_mode": {
    "name": "ipython",
    "version": 3
   },
   "file_extension": ".py",
   "mimetype": "text/x-python",
   "name": "python",
   "nbconvert_exporter": "python",
   "pygments_lexer": "ipython3",
   "version": "3.6.5"
  }
 },
 "nbformat": 4,
 "nbformat_minor": 2
}
